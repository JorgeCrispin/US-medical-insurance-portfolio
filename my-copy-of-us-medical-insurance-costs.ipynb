{
 "cells": [
  {
   "cell_type": "markdown",
   "metadata": {},
   "source": [
    "# U.S. Medical Insurance Costs"
   ]
  },
  {
   "cell_type": "code",
   "execution_count": 2,
   "metadata": {
    "scrolled": false
   },
   "outputs": [
    {
     "name": "stdout",
     "output_type": "stream",
     "text": [
      "The average age of our customer is 39.21 years old.\n",
      "Most of our customers (364) come from the southwest.\n",
      "The number of our customers who smoke: 274.\n",
      "The number of our customers who do not smoke: 1064.\n",
      "The average cost per customer is : $13259.51\n",
      "The average cost of insurance for a smoker is $31943.88\n",
      "The average cost of insurance for a non smoker is $8434.27\n"
     ]
    }
   ],
   "source": [
    "import csv\n",
    "#import insurance.csv into our file and inspect the contents.\n",
    "ages = []\n",
    "sex = []\n",
    "bmi = []\n",
    "children = []\n",
    "smoker = []\n",
    "region = []\n",
    "charges = []\n",
    "\n",
    "with open('insurance.csv', 'r') as insurance_costs:\n",
    "    insurance = csv.reader(insurance_costs)\n",
    "    for row in insurance:\n",
    "        ages.append(row[0])\n",
    "        sex.append(row[1])\n",
    "        bmi.append(row[2])\n",
    "        children.append(row[3])\n",
    "        smoker.append(row[4])\n",
    "        region.append(row[5])\n",
    "        charges.append(row[6])\n",
    "        #contains age, sex, bmi, children, smoker, region, charges\n",
    "#turn age into a workable set\n",
    "updated_ages = []\n",
    "for age in ages:\n",
    "    if age == 'age':\n",
    "        continue\n",
    "    updated_ages.append(age)\n",
    "ages_integer = list(map(int, updated_ages))\n",
    "ages_integer\n",
    "#find the average age\n",
    "def average(lst):\n",
    "    return sum(lst)/len(lst)\n",
    "print(\"The average age of our customer is \"+str(round(average(ages_integer),2))+\" years old.\")\n",
    "\n",
    "#Where are the majority of individuals from\n",
    "#work with region\n",
    "count1 = 0\n",
    "count2 = 0\n",
    "count3 = 0\n",
    "count4 = 0\n",
    "for i in region:\n",
    "    if i == 'northeast':\n",
    "        count1 += 1\n",
    "    elif i == 'northwest':\n",
    "        count2 += 1\n",
    "    elif i == 'southeast':\n",
    "        count3 += 1\n",
    "    elif i == 'southwest':\n",
    "        count4 += 1\n",
    "#print out the region with the most customers\n",
    "print(\"Most of our customers (\"+ str(max(count1,count2,count3,count4))+\") come from the southwest.\")\n",
    "#compare average cost smoker vs. non_smoker\n",
    "no_smoker = 0\n",
    "yes_smoker = 0\n",
    "for lung in smoker:\n",
    "    if lung == 'yes':\n",
    "        yes_smoker += 1\n",
    "    elif lung == 'no':\n",
    "        no_smoker += 1\n",
    "print(\"The number of our customers who smoke: \" + str(yes_smoker) + \".\") \n",
    "print(\"The number of our customers who do not smoke: \" + str(no_smoker) + \".\")\n",
    "#turn charges into a workable set\n",
    "#lets get the average of all our customers first\n",
    "nu_charges=0\n",
    "for charge in charges:\n",
    "    if charge == 'charges':\n",
    "        continue\n",
    "    else:\n",
    "        nu_charges += float(charge)\n",
    "average_charge = nu_charges/len(charges)-1\n",
    "print(\"The average cost per customer is : $\" + str(round(average_charge, 2)))\n",
    "        \n",
    "#average cost of smoker\n",
    "#turn charges into a workable set\n",
    "smoker_cost = 0\n",
    "no_smoker_cost = 0\n",
    "for cost in range(1,len(charges)-1):\n",
    "    if smoker[cost] == 'yes':\n",
    "        smoker_cost +=  float(charges[cost])\n",
    "    elif smoker[cost] == 'no':\n",
    "        no_smoker_cost += float(charges[cost])\n",
    "#divide the total charges by smokers to get the average cost for a smoker\n",
    "average_smoker_cost = smoker_cost/yes_smoker\n",
    "average_no_smoker_cost = no_smoker_cost/no_smoker\n",
    "\n",
    "print(\"The average cost of insurance for a smoker is $\"+ str(round(average_smoker_cost,2)))\n",
    "print(\"The average cost of insurance for a non smoker is $\" + str(round(average_no_smoker_cost,2)))\n"
   ]
  },
  {
   "cell_type": "code",
   "execution_count": null,
   "metadata": {},
   "outputs": [],
   "source": []
  }
 ],
 "metadata": {
  "kernelspec": {
   "display_name": "Python 3 (ipykernel)",
   "language": "python",
   "name": "python3"
  },
  "language_info": {
   "codemirror_mode": {
    "name": "ipython",
    "version": 3
   },
   "file_extension": ".py",
   "mimetype": "text/x-python",
   "name": "python",
   "nbconvert_exporter": "python",
   "pygments_lexer": "ipython3",
   "version": "3.9.13"
  }
 },
 "nbformat": 4,
 "nbformat_minor": 4
}
